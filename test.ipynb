{
 "cells": [
  {
   "cell_type": "code",
   "execution_count": 1,
   "id": "ddd2990f",
   "metadata": {},
   "outputs": [],
   "source": [
    "import requests\n",
    "from bs4 import BeautifulSoup\n",
    "import pandas as pd \n",
    "import time "
   ]
  },
  {
   "cell_type": "code",
   "execution_count": null,
   "id": "f8bce331",
   "metadata": {},
   "outputs": [
    {
     "name": "stdout",
     "output_type": "stream",
     "text": [
      "Put some skills that you are not familiar with\n",
      ">django\n",
      "Filtering out django\n",
      "File saved: 1\n",
      "File saved: 2\n",
      "File saved: 3\n",
      "File saved: 5\n",
      "File saved: 9\n",
      "File saved: 10\n",
      "File saved: 11\n",
      "File saved: 12\n",
      "File saved: 16\n",
      "File saved: 18\n",
      "File saved: 20\n",
      "File saved: 23\n",
      "File saved: 24\n",
      "Waiting  10 minutes\n"
     ]
    }
   ],
   "source": [
    "print('Put some skills that you are not familiar with')\n",
    "unfamiliar_skill = input('>')\n",
    "print(f\"Filtering out {unfamiliar_skill}\")\n",
    "def find_jobs():\n",
    "    html_text = requests.get('https://www.timesjobs.com/candidate/job-search.html?searchType=personalizedSearch&from=submit&txtKeywords=python&txtLocation=').text\n",
    "    soup = BeautifulSoup(html_text, 'lxml')   \n",
    "    jobs = soup.find_all('li', class_ = 'clearfix job-bx wht-shd-bx')\n",
    "    for index, job in enumerate(jobs):\n",
    "        published_date = job.find('span', class_= 'sim-posted').span.text\n",
    "        if 'few' in published_date:\n",
    "            company_name = job.find('h3', class_ = 'joblist-comp-name').text\n",
    "            skills = job.find('span', class_='srp-skills').text.replace(' ','')\n",
    "            more_info = job.header.h2.a['href']\n",
    "            if unfamiliar_skill not in skills:\n",
    "                with open(f'posts/{index}.txt', 'w') as f:\n",
    "                    f.write(f\"Company Name: {company_name.strip()} \\n\")\n",
    "                    f.write(f\"Required Skills: {skills.strip()} \\n\")\n",
    "                    f.write(f\"More Info: {more_info}\")\n",
    "                print(f'File saved: {index}')\n",
    "if __name__ == '__main__':\n",
    "    while True:\n",
    "        find_jobs()\n",
    "        time_wait = 10\n",
    "        print(f\"Waiting  {time_wait} minutes\")\n",
    "        time.sleep(time_wait * 60)\n",
    "       "
   ]
  },
  {
   "cell_type": "code",
   "execution_count": null,
   "id": "119c8ae2",
   "metadata": {},
   "outputs": [],
   "source": []
  },
  {
   "cell_type": "code",
   "execution_count": null,
   "id": "e3f2471c",
   "metadata": {},
   "outputs": [],
   "source": [
    "# soup.find_all('')"
   ]
  },
  {
   "cell_type": "code",
   "execution_count": null,
   "id": "dd5018fc",
   "metadata": {},
   "outputs": [],
   "source": []
  },
  {
   "cell_type": "code",
   "execution_count": null,
   "id": "33e0256b",
   "metadata": {},
   "outputs": [],
   "source": [
    "# print(title.text)"
   ]
  },
  {
   "cell_type": "code",
   "execution_count": null,
   "id": "af16affe",
   "metadata": {},
   "outputs": [],
   "source": [
    "# print(article.text)"
   ]
  },
  {
   "cell_type": "code",
   "execution_count": null,
   "id": "8f29fd24",
   "metadata": {},
   "outputs": [],
   "source": []
  }
 ],
 "metadata": {
  "kernelspec": {
   "display_name": "Python 3 (ipykernel)",
   "language": "python",
   "name": "python3"
  },
  "language_info": {
   "codemirror_mode": {
    "name": "ipython",
    "version": 3
   },
   "file_extension": ".py",
   "mimetype": "text/x-python",
   "name": "python",
   "nbconvert_exporter": "python",
   "pygments_lexer": "ipython3",
   "version": "3.9.7"
  }
 },
 "nbformat": 4,
 "nbformat_minor": 5
}
